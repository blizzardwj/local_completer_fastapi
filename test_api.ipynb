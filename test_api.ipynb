{
 "cells": [
  {
   "metadata": {},
   "cell_type": "markdown",
   "source": [
    "### Test multipart/form-data requests and application/json requests\n",
    "\n",
    "- Should first run main.py, which starts the FastAPI server"
   ],
   "id": "52bbfa6ffccb728d"
  },
  {
   "cell_type": "code",
   "id": "initial_id",
   "metadata": {
    "collapsed": true,
    "ExecuteTime": {
     "end_time": "2024-10-19T02:37:21.152523Z",
     "start_time": "2024-10-19T02:37:21.140667Z"
    }
   },
   "source": [
    "import requests\n",
    "import json\n",
    "\n",
    "BASE_URL = \"http://localhost:8000\"\n",
    "\n",
    "def test_upload_file():\n",
    "    files = {'file': open('README.md', 'rb')}\n",
    "    response = requests.post(f\"{BASE_URL}/upload-file/\", files=files)\n",
    "    print(response.json())\n",
    "\n",
    "def test_upload_form():\n",
    "    data = {'name': 'Aria', 'email': 'Aria@smartgirl.com'}\n",
    "    response = requests.post(f\"{BASE_URL}/upload-form/\", data=data)\n",
    "    print(response.json())\n",
    "\n",
    "def test_mixed_data():\n",
    "    files = {'file': open('README.md', 'rb')}\n",
    "    data = {\n",
    "        'item': json.dumps({\n",
    "            'name': 'Item1', \n",
    "            'description': 'Description', \n",
    "            'price': 10.5, \n",
    "            'tax': 1.5\n",
    "        }),\n",
    "        'comment': 'This is a comment'\n",
    "    }\n",
    "    response = requests.post(f\"{BASE_URL}/mixed-data/\", files=files, data=data)\n",
    "    # check status_code\n",
    "    if response.status_code == 422:\n",
    "        print(\"Unprocessable Entity\")\n",
    "    print(response.json())\n",
    "\n",
    "def test_json_data():\n",
    "    json_data = {'name': 'Item1', 'description': 'Description', 'price': 10.5, 'tax': 1.5}\n",
    "    response = requests.post(f\"{BASE_URL}/json-data/\", json=json_data)\n",
    "    print(response.json())\n"
   ],
   "outputs": [],
   "execution_count": 6
  },
  {
   "metadata": {
    "ExecuteTime": {
     "end_time": "2024-10-19T02:37:25.799703Z",
     "start_time": "2024-10-19T02:37:25.773135Z"
    }
   },
   "cell_type": "code",
   "source": [
    "# test_upload_file()\n",
    "test_upload_form()\n",
    "# test_mixed_data()\n",
    "# test_json_data()"
   ],
   "id": "ab6c21cd80be9813",
   "outputs": [
    {
     "name": "stdout",
     "output_type": "stream",
     "text": [
      "{'name': 'Aria', 'email': 'Aria@smartgirl.com'}\n"
     ]
    }
   ],
   "execution_count": 7
  },
  {
   "metadata": {},
   "cell_type": "code",
   "outputs": [],
   "execution_count": null,
   "source": "",
   "id": "d1a8e4b5c31c9aa"
  }
 ],
 "metadata": {
  "kernelspec": {
   "display_name": "Python 3",
   "language": "python",
   "name": "python3"
  },
  "language_info": {
   "codemirror_mode": {
    "name": "ipython",
    "version": 2
   },
   "file_extension": ".py",
   "mimetype": "text/x-python",
   "name": "python",
   "nbconvert_exporter": "python",
   "pygments_lexer": "ipython2",
   "version": "2.7.6"
  }
 },
 "nbformat": 4,
 "nbformat_minor": 5
}
